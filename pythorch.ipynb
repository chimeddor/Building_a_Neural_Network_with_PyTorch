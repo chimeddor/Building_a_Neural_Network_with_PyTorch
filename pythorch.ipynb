{
  "nbformat": 4,
  "nbformat_minor": 0,
  "metadata": {
    "colab": {
      "provenance": [],
      "gpuType": "T4",
      "authorship_tag": "ABX9TyN/bllTRXEY6PeHkaiEmlXs",
      "include_colab_link": true
    },
    "kernelspec": {
      "name": "python3",
      "display_name": "Python 3"
    },
    "language_info": {
      "name": "python"
    },
    "accelerator": "GPU"
  },
  "cells": [
    {
      "cell_type": "markdown",
      "metadata": {
        "id": "view-in-github",
        "colab_type": "text"
      },
      "source": [
        "<a href=\"https://colab.research.google.com/github/chimeddor/Building_a_Neural_Network_with_PyTorch/blob/master/pythorch.ipynb\" target=\"_parent\"><img src=\"https://colab.research.google.com/assets/colab-badge.svg\" alt=\"Open In Colab\"/></a>"
      ]
    },
    {
      "cell_type": "code",
      "source": [
        "from google.colab import drive\n",
        "drive.mount(\"/content/drive\")"
      ],
      "metadata": {
        "colab": {
          "base_uri": "https://localhost:8080/"
        },
        "id": "LPfk-7wfdqB0",
        "outputId": "3a0e3509-06df-420f-a24c-5322b1f5f411"
      },
      "execution_count": 1,
      "outputs": [
        {
          "output_type": "stream",
          "name": "stdout",
          "text": [
            "Mounted at /content/drive\n"
          ]
        }
      ]
    },
    {
      "cell_type": "code",
      "source": [
        "path = \"/content/drive/MyDrive/my_folder\""
      ],
      "metadata": {
        "id": "n2odCpg7ldIi"
      },
      "execution_count": 2,
      "outputs": []
    },
    {
      "cell_type": "code",
      "source": [
        "img_name = [1,2,3]\n",
        "for i in img_name:\n",
        "  img = Image.open(f\"{path}/img/img_{i}.jpg\")\n",
        "  print(f\"img_{i}.jpg is\")\n",
        "  display(img)\n",
        "  print(\"-\"*100)"
      ],
      "metadata": {
        "colab": {
          "base_uri": "https://localhost:8080/",
          "height": 223
        },
        "id": "U_wvNjkos6b2",
        "outputId": "17ae8c36-a318-4ff8-bd97-13e4df84c075"
      },
      "execution_count": 21,
      "outputs": [
        {
          "output_type": "stream",
          "name": "stdout",
          "text": [
            "img_1.jpg is\n"
          ]
        },
        {
          "output_type": "display_data",
          "data": {
            "text/plain": [
              "<PIL.JpegImagePlugin.JpegImageFile image mode=L size=28x28>"
            ],
            "image/png": "[encoded data removed]"
          },
          "metadata": {}
        },
        {
          "output_type": "stream",
          "name": "stdout",
          "text": [
            "----------------------------------------------------------------------------------------------------\n",
            "img_2.jpg is\n"
          ]
        },
        {
          "output_type": "display_data",
          "data": {
            "text/plain": [
              "<PIL.JpegImagePlugin.JpegImageFile image mode=L size=28x28>"
            ],
            "image/png": "[encoded data removed]"
          },
          "metadata": {}
        },
        {
          "output_type": "stream",
          "name": "stdout",
          "text": [
            "----------------------------------------------------------------------------------------------------\n",
            "img_3.jpg is\n"
          ]
        },
        {
          "output_type": "display_data",
          "data": {
            "text/plain": [
              "<PIL.JpegImagePlugin.JpegImageFile image mode=L size=28x28>"
            ],
            "image/png": "[encoded data removed]"
          },
          "metadata": {}
        },
        {
          "output_type": "stream",
          "name": "stdout",
          "text": [
            "----------------------------------------------------------------------------------------------------\n"
          ]
        }
      ]
    },
    {
      "cell_type": "code",
      "execution_count": 10,
      "metadata": {
        "id": "mlKAFK0RTN6f",
        "colab": {
          "base_uri": "https://localhost:8080/"
        },
        "outputId": "6b7673d5-41aa-456a-dd50-33d4283f9e8c"
      },
      "outputs": [
        {
          "output_type": "stream",
          "name": "stdout",
          "text": [
            "tensor(2, device='cuda:0')\n"
          ]
        }
      ],
      "source": [
        "# Import dependencies\n",
        "import torch\n",
        "from PIL import Image\n",
        "from torch import nn, save, load\n",
        "from torch.optim import Adam\n",
        "from torch.utils.data import DataLoader\n",
        "from torchvision import datasets\n",
        "from torchvision.transforms import ToTensor\n",
        "\n",
        "# Get data\n",
        "train = datasets.MNIST(root=\"data\", download=True, train=True, transform=ToTensor())\n",
        "dataset = DataLoader(train, 32)\n",
        "\n",
        "# Image Classifier Neural Network\n",
        "class ImageClassifier(nn.Module):\n",
        "  def __init__(self):\n",
        "    super().__init__()\n",
        "    self.model = nn.Sequential(\n",
        "        # Conv Layer를 사용.\n",
        "        nn.Conv2d(1, 32,(3,3)), #입력 채널이 1, 이미지가 흑백이고 3x3 모양의 필터 32개\n",
        "        nn.ReLU(),\n",
        "        nn.Conv2d(32, 64, (3,3)), # 입력 채널로 32, 출력 64\n",
        "        nn.ReLU(),\n",
        "        nn.Conv2d(64, 64, (3,3)), # 입력 채널로 32, 출력 64\n",
        "        nn.ReLU(),\n",
        "        nn.Flatten(),\n",
        "        nn.Linear(64*(28-6)*(28-6), 10)\n",
        "    )\n",
        "\n",
        "\n",
        "  def forward(self, x):\n",
        "    return self.model(x)\n",
        "\n",
        "\n",
        "# Instance of the neural network, loss, optimizer\n",
        "clf = ImageClassifier().to('cuda')\n",
        "opt = Adam(clf.parameters(), lr=1e-3)\n",
        "loss_fn = nn.CrossEntropyLoss()\n",
        "\n",
        "# Training flow\n",
        "if __name__ == \"__main__\":\n",
        "  with open(f\"{path}/model_state.pt\", \"rb\") as f:\n",
        "    clf.load_state_dict(load(f))\n",
        "\n",
        "\n",
        "  img = Image.open(f\"{path}/img/img_1.jpg\")\n",
        "  img_tensor = ToTensor()(img).unsqueeze(0).to('cuda')\n",
        "\n",
        "  print(torch.argmax(clf(img_tensor)))\n",
        "\n",
        "  # for epoch in range(10): #train for 10 epoch\n",
        "  #   for batch in dataset:\n",
        "  #     X, y = batch\n",
        "  #     X, y = X.to('cuda'), y.to('cuda')\n",
        "  #     yhat = clf(X)\n",
        "  #     loss = loss_fn(yhat, y)\n",
        "\n",
        "  #     #Apply backprop\n",
        "  #     opt.zero_grad()\n",
        "  #     loss.backward()\n",
        "  #     opt.step()\n",
        "\n",
        "    # print(f\"Epoch:{epoch} loss is {loss.item()}\")\n",
        "  with open(f\"{path}/model_state.pt\", \"wb\") as f:\n",
        "    save(clf.state_dict(), f)\n",
        "\n"
      ]
    }
  ]
}