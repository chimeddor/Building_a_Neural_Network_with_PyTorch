{
  "nbformat": 4,
  "nbformat_minor": 0,
  "metadata": {
    "colab": {
      "provenance": [],
      "authorship_tag": "ABX9TyPvDAHOkObMR7Dbs6Od5kWE",
      "include_colab_link": true
    },
    "kernelspec": {
      "name": "python3",
      "display_name": "Python 3"
    },
    "language_info": {
      "name": "python"
    }
  },
  "cells": [
    {
      "cell_type": "markdown",
      "metadata": {
        "id": "view-in-github",
        "colab_type": "text"
      },
      "source": [
        "<a href=\"https://colab.research.google.com/github/chimeddor/Building_a_Neural_Network_with_PyTorch/blob/master/pythorch.ipynb\" target=\"_parent\"><img src=\"https://colab.research.google.com/assets/colab-badge.svg\" alt=\"Open In Colab\"/></a>"
      ]
    },
    {
      "cell_type": "code",
      "source": [
        "from google.colab import drive\n",
        "drive.mount(\"/content/drive\")"
      ],
      "metadata": {
        "colab": {
          "base_uri": "https://localhost:8080/"
        },
        "id": "LPfk-7wfdqB0",
        "outputId": "ff887ef1-46f1-49dd-99ae-4e03480fc44c"
      },
      "execution_count": null,
      "outputs": [
        {
          "output_type": "stream",
          "name": "stdout",
          "text": [
            "Mounted at /content/drive\n"
          ]
        }
      ]
    },
    {
      "cell_type": "code",
      "execution_count": null,
      "metadata": {
        "id": "mlKAFK0RTN6f"
      },
      "outputs": [],
      "source": [
        "# Import dependencies\n",
        "from torch import nn\n",
        "from torch.optim import Adam\n",
        "from torch.utils.data import DataLoader\n",
        "from torchvision import datasets\n",
        "from torchvision.transforms import ToTensor\n",
        "\n",
        "# Get data\n",
        "train = datasets.MNIST(root=\"data\", download=True, train=True, transform=ToTensor())\n",
        "dataset = DataLoader(train, 32)\n",
        "\n",
        "class ImageClassifier(nn.Module):\n",
        "  def __init__():\n",
        "    self.model = nn.Sequential(\n",
        "\n",
        "        # Conv Layer를 사용.\n",
        "        nn.Conv2d(1, 32,(3,3)) #입력 채널이 1, 이미지가 흑백이고 3x3 모양의 필터 32개\n",
        "\n",
        "\n",
        "\n",
        "\n",
        "    )\n",
        "\n",
        "\n",
        "  def forward():\n",
        "    pass\n",
        "\n",
        "\n"
      ]
    },
    {
      "cell_type": "code",
      "source": [
        "!git init\n",
        "!git add \"/content/drive/MyDrive/alchera_ai/pythorch.ipynb\"\n",
        "!git commit -m \"add conv2\"\n",
        "!git remote add origin https://github.com/chimeddor/Building_a_Neural_Network_with_PyTorch.git\n",
        "!git push -u origin master\n"
      ],
      "metadata": {
        "colab": {
          "base_uri": "https://localhost:8080/"
        },
        "id": "8PLHsfU5azHa",
        "outputId": "cd7dc2bb-94f4-4b96-8e3f-0131f22eb508"
      },
      "execution_count": null,
      "outputs": [
        {
          "output_type": "stream",
          "name": "stdout",
          "text": [
            "Reinitialized existing Git repository in /content/.git/\n",
            "fatal: pathspec '/content/drive/MyDrive/alchera_ai/pythorch.ipynb' did not match any files\n",
            "Author identity unknown\n",
            "\n",
            "*** Please tell me who you are.\n",
            "\n",
            "Run\n",
            "\n",
            "  git config --global user.email \"you@example.com\"\n",
            "  git config --global user.name \"Your Name\"\n",
            "\n",
            "to set your account's default identity.\n",
            "Omit --global to set the identity only in this repository.\n",
            "\n",
            "fatal: unable to auto-detect email address (got 'root@35d9f4426096.(none)')\n",
            "error: remote origin already exists.\n",
            "fatal: could not read Username for 'https://github.com': No such device or address\n"
          ]
        }
      ]
    }
  ]
}