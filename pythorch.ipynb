{
  "nbformat": 4,
  "nbformat_minor": 0,
  "metadata": {
    "colab": {
      "provenance": [],
      "authorship_tag": "ABX9TyO2kgFWJmhy9Dd8i/XonA6C",
      "include_colab_link": true
    },
    "kernelspec": {
      "name": "python3",
      "display_name": "Python 3"
    },
    "language_info": {
      "name": "python"
    }
  },
  "cells": [
    {
      "cell_type": "markdown",
      "metadata": {
        "id": "view-in-github",
        "colab_type": "text"
      },
      "source": [
        "<a href=\"https://colab.research.google.com/github/chimeddor/Building_a_Neural_Network_with_PyTorch/blob/master/pythorch.ipynb\" target=\"_parent\"><img src=\"https://colab.research.google.com/assets/colab-badge.svg\" alt=\"Open In Colab\"/></a>"
      ]
    },
    {
      "cell_type": "code",
      "source": [
        "from google.colab import drive\n",
        "drive.mount(\"/content/drive\")"
      ],
      "metadata": {
        "colab": {
          "base_uri": "https://localhost:8080/"
        },
        "id": "LPfk-7wfdqB0",
        "outputId": "ff887ef1-46f1-49dd-99ae-4e03480fc44c"
      },
      "execution_count": null,
      "outputs": [
        {
          "output_type": "stream",
          "name": "stdout",
          "text": [
            "Mounted at /content/drive\n"
          ]
        }
      ]
    },
    {
      "cell_type": "code",
      "execution_count": null,
      "metadata": {
        "id": "mlKAFK0RTN6f"
      },
      "outputs": [],
      "source": [
        "# Import dependencies\n",
        "from torch import nn\n",
        "from torch.optim import Adam\n",
        "from torch.utils.data import DataLoader\n",
        "from torchvision import datasets\n",
        "from torchvision.transforms import ToTensor\n",
        "\n",
        "# Get data\n",
        "train = datasets.MNIST(root=\"data\", download=True, train=True, transform=ToTensor())\n",
        "dataset = DataLoader(train, 32)\n",
        "\n",
        "class ImageClassifier(nn.Module):\n",
        "  def __init__():\n",
        "    self.model = nn.Sequential(\n",
        "\n",
        "        # Conv Layer를 사용.\n",
        "        nn.Conv2d(1, 32,(3,3)) #입력 채널이 1, 이미지가 흑백이고 3x3 모양의 필터 32개\n",
        "\n",
        "\n",
        "\n",
        "\n",
        "    )\n",
        "\n",
        "\n",
        "  def forward():\n",
        "    pass\n",
        "\n",
        "\n"
      ]
    }
  ]
}